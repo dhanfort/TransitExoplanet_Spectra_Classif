{
 "cells": [
  {
   "cell_type": "markdown",
   "id": "92456677-e1ea-4254-9b8c-0f48d15aab8c",
   "metadata": {},
   "source": [
    "# NASA - LURA Project 2022-2023\n",
    "\n",
    "Python code for the paper titled \"Exoplanet Atmosphere Characterization via Transit Spectra Classification\"\n",
    "\n",
    "Cite: Fortela, D.L.; Travis, A.; Mikolajczyk, A.; Sharp, W. Exoplanet Atmosphere Characterization via Transit Spectra Classification. Preprints 2023, 2023081385. https://doi.org/10.20944/preprints202308.1385.v1\n",
    "\n"
   ]
  },
  {
   "cell_type": "markdown",
   "id": "401af077-4864-4927-abda-add818e28599",
   "metadata": {},
   "source": [
    "## PLATON - Python Package for Exoplanet Atmospheric Spectra Simulation\n",
    "\n",
    "URL: https://platon.readthedocs.io/en/latest/quickstart.html"
   ]
  },
  {
   "cell_type": "markdown",
   "id": "b4bd043b-8d5e-4b1d-a697-83e4490546c3",
   "metadata": {},
   "source": [
    "NOTE: make sure to install the PLATON module before running these codes. See link above for the instructons and examples of running the PLATON 5.3 module."
   ]
  },
  {
   "cell_type": "code",
   "execution_count": 1,
   "id": "dc5d049d-f253-4214-8daa-8bb17b80f19c",
   "metadata": {
    "tags": []
   },
   "outputs": [],
   "source": [
    "import pandas as pd\n",
    "import numpy as np\n",
    "\n",
    "from platon.transit_depth_calculator import TransitDepthCalculator\n",
    "from platon.constants import M_jup, R_jup, R_sun\n",
    "import matplotlib.pyplot as plt\n"
   ]
  },
  {
   "cell_type": "markdown",
   "id": "5bae67d5-dda1-4efc-ab91-a8366efd8a37",
   "metadata": {},
   "source": [
    "## Now specify the atmospheric abundance of chemicals"
   ]
  },
  {
   "cell_type": "code",
   "execution_count": 3,
   "id": "02551165-6934-489e-8e9d-47d5fad82b93",
   "metadata": {
    "tags": []
   },
   "outputs": [],
   "source": [
    "from platon.abundance_getter import AbundanceGetter\n",
    "\n",
    "\n",
    "from platon.transit_depth_calculator import TransitDepthCalculator\n",
    "from platon.constants import M_jup, R_jup, R_sun\n",
    "\n",
    "\n",
    "# All inputs and outputs for PLATON are in SI\n",
    "\n",
    "Rs = 1.16 * R_sun\n",
    "Mp = 0.73 * M_jup\n",
    "Rp = 1.40 * R_jup\n",
    "T = 1200\n",
    "\n",
    "\n",
    "# specify adundace\n",
    "#abundances = AbundanceGetter.from_file(\"~/platon/examples/custom_abundances/abund_C2H2.dat\")\n",
    "getter = AbundanceGetter()\n",
    "\n",
    "# Solar logZ and C/O ratio. Modify as required.\n",
    "abundances = getter.get(0, 0.53)\n",
    "\n",
    "# Zero out CO.  (Note that if CO is a major component, you should probably\n",
    "# renormalize the abundances of other species so that they add up to 1.)\n",
    "abundances[\"CO\"] *= 0\n",
    "\n",
    "\n",
    "# create the array of CO2 and CH4 levels: [co2, ch4, o2] as tuples\n",
    "CO2_lvls_low = np.random.uniform(low=0.0, high=9.9e-5, size=10)\n",
    "CO2_lvls_high = np.random.uniform(low=10e-5, high=10e-4, size=10)\n",
    "\n",
    "O2_lvls_low = np.random.uniform(low=0.0, high=9.9e-5, size=10)\n",
    "O2_lvls_high = np.random.uniform(low=10e-5, high=10e-4, size=10)\n",
    "\n",
    "N2_lvls_low = np.random.uniform(low=0.0, high=9.9e-5, size=10)\n",
    "N2_lvls_high = np.random.uniform(low=10e-5, high=10e-4, size=10)\n",
    "\n",
    "# combine the low and high levels of CO2, CH4, and O2 in all possible ways to create the labels\n",
    "CO2_lvls_low = np.reshape(CO2_lvls_low, (CO2_lvls_low.shape[0],1))\n",
    "CO2_lvls_high = np.reshape(CO2_lvls_high, (CO2_lvls_high.shape[0],1))\n",
    "\n",
    "O2_lvls_low = np.reshape(O2_lvls_low, (O2_lvls_low.shape[0],1))\n",
    "O2_lvls_high = np.reshape(O2_lvls_high, (O2_lvls_high.shape[0],1))\n",
    "\n",
    "N2_lvls_low = np.reshape(N2_lvls_low, (N2_lvls_low.shape[0],1))\n",
    "N2_lvls_high = np.reshape(N2_lvls_high, (N2_lvls_high.shape[0],1))\n",
    "\n",
    "\n",
    "# setup level-combinations of ch2, ch4, o2 to create categories of stecra/labels: 2^3 = 8 labels\n",
    "level_1 = np.concatenate((CO2_lvls_low, O2_lvls_low, N2_lvls_low), axis=1)\n",
    "level_2 = np.concatenate((CO2_lvls_high, O2_lvls_low, N2_lvls_low), axis=1)\n",
    "level_3 = np.concatenate((CO2_lvls_low, O2_lvls_high, N2_lvls_low), axis=1)\n",
    "level_4 = np.concatenate((CO2_lvls_high, O2_lvls_high, N2_lvls_low), axis=1)\n",
    "level_5 = np.concatenate((CO2_lvls_low, O2_lvls_low, N2_lvls_high), axis=1)\n",
    "level_6 = np.concatenate((CO2_lvls_high, O2_lvls_low, N2_lvls_high), axis=1)\n",
    "level_7 = np.concatenate((CO2_lvls_low, O2_lvls_high, N2_lvls_high), axis=1)\n",
    "level_8 = np.concatenate((CO2_lvls_high, O2_lvls_high, N2_lvls_high), axis=1)\n",
    "\n",
    "\n",
    "\n",
    "list_levels = np.concatenate((level_1, level_2, level_3, level_4, level_5, level_6, level_7, level_8), axis=0)\n",
    "\n",
    "\n",
    "# convert numpy array into tuples\n",
    "levels_tuples = tuple(map(tuple, list_levels))\n",
    "\n",
    "\n",
    "# initialize empty spectra array\n",
    "arr = []\n",
    "loop_idx = 1\n",
    "\n",
    "\n",
    "for co2, o2, n2 in levels_tuples:\n",
    "    \n",
    "    #print(\"Loop\" + str(loop_idx))\n",
    "    \n",
    "    loop_idx += 1\n",
    "    \n",
    "    # Set CH4 abundance to a constant throughout the atmosphere\n",
    "    abundances[\"CO2\"] *= 0\n",
    "    abundances[\"CO2\"] += co2\n",
    "\n",
    "\n",
    "    # Set CO2 abundance to a constant throughout the atmosphere\n",
    "    abundances[\"O2\"] *= 0\n",
    "    abundances[\"O2\"] += o2\n",
    "\n",
    "    \n",
    "    # Set o2 abundance to a constant throughout the atmosphere\n",
    "    abundances[\"N2\"] *= 0\n",
    "    abundances[\"N2\"] += n2\n",
    "    \n",
    "    \n",
    "    # The initializer loads all data files.  Create a TransitDepthCalculator\n",
    "    # object and hold on to it\n",
    "    calculator = TransitDepthCalculator(method=\"xsec\") #\"ktables\" for correlated k\n",
    "\n",
    "\n",
    "    # compute_depths is fast once data files are loaded\n",
    "    wavelengths, depths, info_dict = calculator.compute_depths(Rs, \n",
    "                                                               Mp, \n",
    "                                                               Rp, \n",
    "                                                               T, \n",
    "                                                               logZ=None, \n",
    "                                                               CO_ratio=None, \n",
    "                                                               custom_abundances=abundances, \n",
    "                                                               full_output=True)\n",
    "\n",
    "\n",
    "\n",
    "    # save simulated data\n",
    "    wav_um = np.reshape(1e6*wavelengths, (wavelengths.shape[0], 1))\n",
    "    depth = np.reshape(depths, (depths.shape[0], 1))\n",
    "    \n",
    "    arr.append(depth)\n",
    "\n",
    "    \n"
   ]
  },
  {
   "cell_type": "code",
   "execution_count": 5,
   "id": "1402e76b-1686-4bdd-9aa9-ef8f728955fe",
   "metadata": {
    "tags": []
   },
   "outputs": [],
   "source": [
    "# add wavelength column\n",
    "arr2 = np.array(arr)\n",
    "arr2 = np.reshape(arr2, (list_levels.shape[0],arr2.shape[1]))\n",
    "wav_um2 = wav_um.transpose()\n",
    "wav_um3 = np.insert(wav_um2, 0, [0,0,0])\n",
    "wav_um4 = np.reshape(wav_um3, (1,wav_um3.shape[0]))\n",
    "\n",
    "spec_arr = np.concatenate((np.reshape(list_levels, (list_levels.shape[0],3)), arr2),axis=1)\n",
    "spec_arr2 = np.concatenate((wav_um4, spec_arr),axis=0)\n",
    "\n",
    "# convert array into dataframe\n",
    "DF = pd.DataFrame(spec_arr2)\n",
    "\n",
    "# save the dataframe as a csv file\n",
    "filename = \"3-Sample_data_Set1_O2varyCO2varyCH4_looped_workcsv\"\n",
    "DF.to_csv(filename, header=False, index=False)\n"
   ]
  }
 ],
 "metadata": {
  "kernelspec": {
   "display_name": "Python [conda env:jwst] *",
   "language": "python",
   "name": "conda-env-jwst-py"
  },
  "language_info": {
   "codemirror_mode": {
    "name": "ipython",
    "version": 3
   },
   "file_extension": ".py",
   "mimetype": "text/x-python",
   "name": "python",
   "nbconvert_exporter": "python",
   "pygments_lexer": "ipython3",
   "version": "3.9.17"
  }
 },
 "nbformat": 4,
 "nbformat_minor": 5
}
