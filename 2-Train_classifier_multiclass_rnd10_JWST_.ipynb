{
 "cells": [
  {
   "cell_type": "markdown",
   "id": "5197d7b5-2399-4b66-a73a-cefbe0fe9154",
   "metadata": {
    "tags": []
   },
   "source": [
    "# Multi-class Classification of Spectral Data\n",
    "\n"
   ]
  },
  {
   "cell_type": "code",
   "execution_count": null,
   "id": "db0010cb-f0af-42c2-b094-1fdc93c3dd2d",
   "metadata": {
    "tags": []
   },
   "outputs": [],
   "source": [
    "import pandas as pd\n",
    "import numpy as np\n",
    "import matplotlib.pyplot as plt\n",
    "from scipy.signal import savgol_filter\n",
    "from sklearn.decomposition import PCA\n",
    "from sklearn.linear_model import LogisticRegression\n",
    "from sklearn.preprocessing import StandardScaler, OneHotEncoder\n",
    "from sklearn.pipeline import Pipeline\n",
    "from sklearn.model_selection import GridSearchCV, cross_val_predict\n",
    " \n",
    "from sklearn.metrics import classification_report, confusion_matrix, roc_curve \n",
    "from sklearn.metrics import RocCurveDisplay, roc_auc_score"
   ]
  },
  {
   "cell_type": "code",
   "execution_count": null,
   "id": "76a1d899-e247-4bc0-b657-afc8537bb9b3",
   "metadata": {
    "tags": []
   },
   "outputs": [],
   "source": [
    "data = pd.read_csv('3-Sample_data_Set1_O2varyCO2varyCH4_looped_work.csv')\n",
    " \n",
    "lab = data.values[:,1].astype('uint8') #labels\n",
    "spectra = data.values[:,4:]\n",
    "label = data.values[:,3]\n",
    "#y = np.reshape(label, (label.shape[0], 1)) \n",
    "y = label.astype('int')\n",
    "X = savgol_filter(spectra, 9, polyorder = 3, deriv=0)\n",
    "X1 = savgol_filter(spectra, 11, polyorder = 3, deriv=1)"
   ]
  },
  {
   "cell_type": "markdown",
   "id": "884b3101-471a-45f7-9b14-10ab73af12cb",
   "metadata": {},
   "source": [
    "### Prelims Check on Trends"
   ]
  },
  {
   "cell_type": "code",
   "execution_count": null,
   "id": "dc5f4ba0-d703-411b-aa58-45d305c7dde3",
   "metadata": {
    "tags": []
   },
   "outputs": [],
   "source": [
    "\n",
    "pca = PCA(n_components=3)\n",
    "Xpca = pca.fit_transform(StandardScaler().fit_transform(X1[:,:]))"
   ]
  },
  {
   "cell_type": "markdown",
   "id": "dfad868c-8b75-4366-b7eb-735cc5f7e0ee",
   "metadata": {},
   "source": [
    "### Multi-class Classification Pipeline"
   ]
  },
  {
   "cell_type": "code",
   "execution_count": null,
   "id": "d6b8c3ef-7f20-49ce-9b62-2f625759b45a",
   "metadata": {
    "tags": []
   },
   "outputs": [],
   "source": [
    "\n",
    "pipe = Pipeline([('scaler', StandardScaler()), \n",
    "                 ('pca', PCA()), \n",
    "                 ('logit', LogisticRegression(max_iter=100000))]) \n",
    "parameters = {'logit__C':np.logspace(-3,0, num=4), \n",
    "              'pca__n_components':np.linspace(1,10,10).astype('uint8')}\n",
    "gs = GridSearchCV(pipe, parameters, scoring = 'accuracy', verbose=0, cv=2, n_jobs=8)\n",
    "gs.fit(X, y)\n",
    "print(gs.best_estimator_['logit'])"
   ]
  },
  {
   "cell_type": "code",
   "execution_count": null,
   "id": "54089152-ca05-45b2-b7d8-64aa90e89518",
   "metadata": {
    "tags": []
   },
   "outputs": [],
   "source": [
    "y_cv = cross_val_predict(gs.best_estimator_, X, y, cv=2, n_jobs=8)\n",
    "print(classification_report(y, y_cv))\n",
    "print(confusion_matrix(y, y_cv))"
   ]
  },
  {
   "cell_type": "code",
   "execution_count": null,
   "id": "3da8b94b-39a3-4dab-98ee-dee24c95d8fd",
   "metadata": {
    "tags": []
   },
   "outputs": [],
   "source": [
    "report = classification_report(y, y_cv, output_dict=True)\n",
    "report_df = pd.DataFrame(report).transpose()\n",
    "report_df.to_csv('classification_repor.csv', index= True)"
   ]
  },
  {
   "cell_type": "code",
   "execution_count": null,
   "id": "ee4dd017-2856-4679-99c2-a06b3858ad77",
   "metadata": {
    "tags": []
   },
   "outputs": [],
   "source": [
    "report_confusion_matrix = confusion_matrix(y, y_cv)"
   ]
  },
  {
   "cell_type": "code",
   "execution_count": null,
   "id": "3020ae0d-a1db-409f-9df7-e177ea37dfaa",
   "metadata": {
    "tags": []
   },
   "outputs": [],
   "source": [
    "import matplotlib as mpl\n",
    "\n",
    "mpl.rc('axes', labelcolor='black')\n",
    "mpl.rcParams['text.usetex'] = True\n",
    "\n",
    "\n",
    "\n",
    "#report_confusion_matrix.shape\n",
    "\n",
    "import seaborn as sns\n",
    "labels = [1, 2, 3, 4, 5, 6, 7, 8]\n",
    "confusion_matrix_df = pd.DataFrame(report_confusion_matrix, index = labels,\n",
    "                  columns = labels)\n",
    "\n",
    "\n",
    "plt.figure(figsize = (4,3))\n",
    "sns.heatmap(confusion_matrix_df, annot=True, cmap=\"RdPu\", linewidths=1, linecolor='black')\n",
    "plt.xlabel('Spectra Class Label')\n",
    "plt.ylabel('Spectra Class Label')\n",
    "plt.title(\"Confusion Matrix\", fontsize =12)\n",
    "plt.savefig('heatmap.svg', bbox_inches=\"tight\", dpi=400)"
   ]
  },
  {
   "cell_type": "markdown",
   "id": "10c3726a-60cf-48ad-800f-a685e5e62020",
   "metadata": {
    "tags": []
   },
   "source": [
    "### ROC curves"
   ]
  },
  {
   "cell_type": "code",
   "execution_count": null,
   "id": "ec24875e-8533-424f-9b05-07a95e22aba2",
   "metadata": {
    "tags": []
   },
   "outputs": [],
   "source": [
    "y_score = cross_val_predict(gs.best_estimator_, X, y, cv=2, n_jobs=8, method='predict_proba')\n",
    " \n",
    "enc = OneHotEncoder()\n",
    "enc.fit(y.reshape(-1, 1))\n",
    "yenc = enc.transform(y.reshape(-1, 1)).toarray()"
   ]
  },
  {
   "cell_type": "code",
   "execution_count": null,
   "id": "4d2ef632-8b11-4375-9a60-ea47eebebe38",
   "metadata": {
    "tags": []
   },
   "outputs": [],
   "source": [
    "import matplotlib as mpl\n",
    "\n",
    "mpl.rc('axes', labelcolor='black')\n",
    "mpl.rcParams['text.usetex'] = True\n",
    "\n",
    "\n",
    "from itertools import cycle\n",
    "\n",
    "fig, ax = plt.subplots(figsize=(3.3, 3.3))\n",
    "\n",
    "\n",
    "n_classes = 8\n",
    "colors = cycle([\"aqua\", \"darkorange\", \"cornflowerblue\", \"red\", \"green\", \"purple\", \"pink\", \"blue\"])\n",
    "for class_id, color in zip(range(n_classes), colors):\n",
    "    RocCurveDisplay.from_predictions(\n",
    "        yenc[:, class_id],  # <- The index 1 means we are selecting class 2\n",
    "        y_score[:, class_id],\n",
    "        name=f\"Class {class_id+1}\",\n",
    "        color=color,\n",
    "        ax=ax,\n",
    "        #plot_chance_level=(class_id == 2),\n",
    "    )\n",
    "\n",
    "plt.plot([0,1],[0,1], '--', color='gray')\n",
    "plt.axis(\"square\")\n",
    "plt.xlabel(\"False Positive Rate\")\n",
    "plt.ylabel(\"True Positive Rate\")\n",
    "plt.title(\"ROC Curves: One-vs-Rest\")\n",
    "plt.legend()\n",
    "#plt.show()\n",
    "plt.savefig('roc_multiclass.svg', bbox_inches=\"tight\", dpi=400)"
   ]
  },
  {
   "cell_type": "markdown",
   "id": "836f1a5a-b75b-4c58-bd9e-d914f6a6438f",
   "metadata": {},
   "source": [
    "### Plot the spectral data"
   ]
  },
  {
   "cell_type": "code",
   "execution_count": null,
   "id": "f62a25fc-06e0-45e0-aec9-6b0aeff1876f",
   "metadata": {
    "tags": []
   },
   "outputs": [],
   "source": [
    "spectra_df = data.iloc[:,4:].transpose()\n",
    "spectra_df['Wavelength_um'] = spectra_df.index"
   ]
  },
  {
   "cell_type": "code",
   "execution_count": null,
   "id": "0e91c756-6e67-4ed4-855d-cc2cf2c73073",
   "metadata": {
    "tags": []
   },
   "outputs": [],
   "source": [
    "spectra_df = spectra_df.reset_index(drop=True)\n",
    "#spectra_df"
   ]
  },
  {
   "cell_type": "code",
   "execution_count": null,
   "id": "5d3c53a3-a39d-40ff-9168-d1393df1115b",
   "metadata": {},
   "outputs": [],
   "source": [
    "plot_data = spectra_df.iloc[:,[0,11, 21, 31, 41, 51, 61, 71, -1]]\n"
   ]
  },
  {
   "cell_type": "code",
   "execution_count": null,
   "id": "b1602779-3166-4f87-a732-e5df79266cd8",
   "metadata": {
    "tags": []
   },
   "outputs": [],
   "source": [
    "dict = {0: 'Class_1',\n",
    "        11: 'Class_2',\n",
    "        21: 'Class_3',\n",
    "       31: 'Class_4',\n",
    "       41: 'Class_5',\n",
    "       51: 'Class_6',\n",
    "       61: 'Class_7',\n",
    "       71: 'Class_8'\n",
    "       }\n",
    "\n",
    "plot_data.rename(columns=dict,\n",
    "          inplace=True)"
   ]
  },
  {
   "cell_type": "code",
   "execution_count": null,
   "id": "c41889ba-e542-4b1d-a79d-403a81b945aa",
   "metadata": {
    "tags": []
   },
   "outputs": [],
   "source": [
    "plot_data"
   ]
  },
  {
   "cell_type": "code",
   "execution_count": null,
   "id": "de63bb87-af7a-48fd-ab17-fccea352327b",
   "metadata": {
    "tags": []
   },
   "outputs": [],
   "source": [
    "import matplotlib as mpl\n",
    "\n",
    "mpl.rc('axes', labelcolor='black')\n",
    "mpl.rcParams['text.usetex'] = True\n",
    "\n",
    "\n",
    "fig, axs = plt.subplots(8,1,figsize=(7, 8), sharex=True)\n",
    "\n",
    "# \n",
    "# default: cycler('color', ['#1f77b4', '#ff7f0e', '#2ca02c', '#d62728', '#9467bd', '#8c564b', '#e377c2', '#7f7f7f', '#bcbd22', '#17becf'])\n",
    "\n",
    "#plot individual lines\n",
    "axs[0].plot(plot_data['Wavelength_um'], plot_data['Class_1'], linewidth=0.5, color='#1f77b4', label=\"Class 1\")\n",
    "axs[0].legend(bbox_to_anchor=(0.33, 1.0), loc='upper right')\n",
    "\n",
    "axs[1].plot(plot_data['Wavelength_um'], plot_data['Class_2'], linewidth=0.5, color='#ff7f0e', label=\"Class 2\")\n",
    "axs[1].legend(bbox_to_anchor=(0.33, 1.0), loc='upper right')\n",
    "\n",
    "axs[2].plot(plot_data['Wavelength_um'], plot_data['Class_3'], linewidth=0.5, color='#2ca02c', label=\"Class 3\")\n",
    "axs[2].legend(bbox_to_anchor=(0.33, 1.0), loc='upper right')\n",
    "\n",
    "axs[3].plot(plot_data['Wavelength_um'], plot_data['Class_4'], linewidth=0.5, color='#d62728', label=\"Class 4\")\n",
    "axs[3].legend(bbox_to_anchor=(0.33, 1.0), loc='upper right')\n",
    "\n",
    "axs[4].plot(plot_data['Wavelength_um'], plot_data['Class_5'], linewidth=0.5, color='#9467bd', label=\"Class 5\")\n",
    "axs[4].legend(bbox_to_anchor=(0.33, 1.0), loc='upper right')\n",
    "\n",
    "axs[5].plot(plot_data['Wavelength_um'], plot_data['Class_6'], linewidth=0.5, color='#8c564b', label=\"Class 6\")\n",
    "axs[5].legend(bbox_to_anchor=(0.33, 1.0), loc='upper right')\n",
    "\n",
    "axs[6].plot(plot_data['Wavelength_um'], plot_data['Class_7'], linewidth=0.5, color='#e377c2', label=\"Class 7\")\n",
    "axs[6].legend(bbox_to_anchor=(0.33, 1.0), loc='upper right')\n",
    "\n",
    "axs[7].plot(plot_data['Wavelength_um'], plot_data['Class_8'], linewidth=0.5, color='#7f7f7f', label=\"Class 8\")\n",
    "axs[7].legend(bbox_to_anchor=(0.33, 1.0), loc='upper right')\n",
    "\n",
    "axs[7].set_xticks([0, 4615], minor=False)\n",
    "\n",
    "\n",
    "# plot and save figure\n",
    "plt.xlabel('\\\\textbf{Wavelength (um)}', fontsize=12)\n",
    "\n",
    "fig.supylabel(r'\\textbf{Exoplanet Transit Depth (ppm)}', fontsize=12)\n",
    "\n",
    "plt.savefig(\"multiple_spectra_sample.svg\", bbox_inches=\"tight\", dpi=400)\n"
   ]
  }
 ],
 "metadata": {
  "kernelspec": {
   "display_name": "Python [conda env:jwst] *",
   "language": "python",
   "name": "conda-env-jwst-py"
  },
  "language_info": {
   "codemirror_mode": {
    "name": "ipython",
    "version": 3
   },
   "file_extension": ".py",
   "mimetype": "text/x-python",
   "name": "python",
   "nbconvert_exporter": "python",
   "pygments_lexer": "ipython3",
   "version": "3.9.17"
  }
 },
 "nbformat": 4,
 "nbformat_minor": 5
}
